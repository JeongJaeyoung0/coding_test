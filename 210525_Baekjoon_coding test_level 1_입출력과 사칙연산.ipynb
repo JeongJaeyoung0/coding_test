{
 "cells": [
  {
   "cell_type": "raw",
   "id": "c442138c",
   "metadata": {},
   "source": [
    "2021.05.25"
   ]
  },
  {
   "cell_type": "markdown",
   "id": "faef3cec",
   "metadata": {},
   "source": [
    "# coding test_Baekjoon_level 1_입출력과 사칙연산"
   ]
  },
  {
   "cell_type": "code",
   "execution_count": 4,
   "id": "a6be55f8",
   "metadata": {},
   "outputs": [
    {
     "name": "stdout",
     "output_type": "stream",
     "text": [
      "Hello World!\n",
      "Hello World!\n",
      "Hello World!\n",
      "Hello World!\n"
     ]
    }
   ],
   "source": [
    "# 2557 (프린트)\n",
    "print('Hello World!')\n",
    "print(\"Hello World!\")\n",
    "print('''Hello World!''')\n",
    "print(\"\"\"Hello World!\"\"\")"
   ]
  },
  {
   "cell_type": "code",
   "execution_count": 58,
   "id": "282b2e93",
   "metadata": {},
   "outputs": [
    {
     "name": "stdout",
     "output_type": "stream",
     "text": [
      "강한친구 대한육군강한친구 대한육군\n"
     ]
    }
   ],
   "source": [
    "# 10718 (프린트)\n",
    "print('강한친구 대한육군 '*2)"
   ]
  },
  {
   "cell_type": "code",
   "execution_count": 6,
   "id": "fca19ebe",
   "metadata": {},
   "outputs": [
    {
     "name": "stdout",
     "output_type": "stream",
     "text": [
      "\\    /\\ \n",
      " )  ( ')\n",
      "(  /  )\n",
      " \\(__)|\n"
     ]
    }
   ],
   "source": [
    "# 10171 (프린트)\n",
    "print(\"\\    /\\ \\n )  ( ')\\n(  /  )\\n \\(__)|\")"
   ]
  },
  {
   "cell_type": "code",
   "execution_count": 7,
   "id": "94510690",
   "metadata": {},
   "outputs": [
    {
     "name": "stdout",
     "output_type": "stream",
     "text": [
      "|\\_/|\n",
      "|q p|   /}\n",
      "( 0 )\"\"\"\\ \n",
      "|\"^\"`    |\n",
      "||_/=\\\\__|\n"
     ]
    }
   ],
   "source": [
    "# 10172 (프린트)\n",
    "print('|\\_/|\\n|q p|   /}\\n( 0 )\"\"\"\\ \\n|\"^\"`    |\\n||_/=\\\\\\__|')"
   ]
  },
  {
   "cell_type": "code",
   "execution_count": 59,
   "id": "b8eecb7d",
   "metadata": {},
   "outputs": [
    {
     "name": "stdout",
     "output_type": "stream",
     "text": [
      "1 2\n",
      "3\n"
     ]
    }
   ],
   "source": [
    "# 1000 (덧셈)\n",
    "# eval() : str 값을 넣으면 그대로 실행하여 결과 출력\n",
    "# ''.join() : ''안의 문자를 join 문자 사이에 입력\n",
    "print(eval('+'.join(input())))"
   ]
  },
  {
   "cell_type": "code",
   "execution_count": 70,
   "id": "c498dee1",
   "metadata": {},
   "outputs": [
    {
     "name": "stdout",
     "output_type": "stream",
     "text": [
      "3 2\n",
      "1\n"
     ]
    }
   ],
   "source": [
    "# 1001 (뺄셈)\n",
    "a,b,c=input();print(int(a)-int(c))"
   ]
  },
  {
   "cell_type": "code",
   "execution_count": 71,
   "id": "b70ed18e",
   "metadata": {},
   "outputs": [
    {
     "name": "stdout",
     "output_type": "stream",
     "text": [
      "3 4\n",
      "12\n"
     ]
    }
   ],
   "source": [
    "# 10998 (곱셈)\n",
    "a,b,c=input();print(int(a)*int(c))"
   ]
  },
  {
   "cell_type": "code",
   "execution_count": 72,
   "id": "6011030a",
   "metadata": {},
   "outputs": [
    {
     "name": "stdout",
     "output_type": "stream",
     "text": [
      "4 5\n",
      "0.8\n"
     ]
    }
   ],
   "source": [
    "# 1008 (나눗셈)\n",
    "a,b,c=input();print(int(a)/int(c))"
   ]
  },
  {
   "cell_type": "code",
   "execution_count": 73,
   "id": "f997e212",
   "metadata": {},
   "outputs": [
    {
     "name": "stdout",
     "output_type": "stream",
     "text": [
      "7 3\n",
      "10 4 21 2 1\n"
     ]
    }
   ],
   "source": [
    "# 10869 (사칙연산, 몫 출력)\n",
    "a,b=map(int,input().split());print(a+b,a-b,a*b,a//b,a%b)"
   ]
  },
  {
   "cell_type": "code",
   "execution_count": 74,
   "id": "369afedb",
   "metadata": {},
   "outputs": [
    {
     "name": "stdout",
     "output_type": "stream",
     "text": [
      "5 8 4\n",
      "1 1 0 0\n"
     ]
    }
   ],
   "source": [
    "# 10430 (나머지)\n",
    "a,b,c=map(int,input().split());print(x:=(a+b)%c,x,y:=a*b%c,y)"
   ]
  },
  {
   "cell_type": "code",
   "execution_count": 90,
   "id": "6fc2903a",
   "metadata": {},
   "outputs": [
    {
     "name": "stdout",
     "output_type": "stream",
     "text": [
      "472\n",
      "385\n",
      "2360 3776 1416 181720\n"
     ]
    }
   ],
   "source": [
    "# 2588 (곱셈)\n",
    "a,b=int(input()),input()\n",
    "print(*[a*int(p)for p in b][::-1],a*int(b))"
   ]
  }
 ],
 "metadata": {
  "kernelspec": {
   "display_name": "Python 3",
   "language": "python",
   "name": "python3"
  },
  "language_info": {
   "codemirror_mode": {
    "name": "ipython",
    "version": 3
   },
   "file_extension": ".py",
   "mimetype": "text/x-python",
   "name": "python",
   "nbconvert_exporter": "python",
   "pygments_lexer": "ipython3",
   "version": "3.8.8"
  }
 },
 "nbformat": 4,
 "nbformat_minor": 5
}
