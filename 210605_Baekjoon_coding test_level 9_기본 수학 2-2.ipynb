{
 "cells": [
  {
   "cell_type": "raw",
   "metadata": {},
   "source": [
    "2021.06.05"
   ]
  },
  {
   "cell_type": "markdown",
   "metadata": {},
   "source": [
    "# coding test_Baekjoon_level 9_기본 수학 2-2"
   ]
  },
  {
   "cell_type": "code",
   "execution_count": null,
   "metadata": {},
   "outputs": [],
   "source": [
    "# 9020 (골드바흐의 추측)-1\n",
    "# 시간 초과\n",
    "s=[];o=10000;p=[*range(o+1)]\n",
    "for i in p:\n",
    "    if 1<i:p[i*i::i]=-(i+~o//i)*[0]\n",
    "    if 1<i:s.append(i)\n",
    "t=int(input())\n",
    "while t>0:\n",
    "    n=int(input())\n",
    "    l=[i for i in range(len(s)) if n-s[i]>1]\n",
    "    b=[[s[i],s[u]] for i in l for u in l if n-s[i]-s[u]==0]\n",
    "    print(*(b[(len(b)-1)//2]))\n",
    "    t-=1"
   ]
  },
  {
   "cell_type": "code",
   "execution_count": null,
   "metadata": {},
   "outputs": [],
   "source": [
    "# 9020 (골드바흐의 추측)-2\n",
    "# 시간 초과\n",
    "import math\n",
    "n=5100\n",
    "t=[True for i in range(n+1)]\n",
    "for i in range(2,int(math.sqrt(n))+1):\n",
    "    if t[i]==True:\n",
    "        a=2\n",
    "        while i*a<=n:\n",
    "            t[i*a]=False\n",
    "            a+=1\n",
    "s=[i for i in range(2,n+1) if t[i]]\n",
    "t=int(input())\n",
    "while t>0:\n",
    "    n=int(input())\n",
    "    l=[i for i in range(len(s)) if n-s[i]>1]\n",
    "    b=[[s[i],s[u]] for i in l for u in l if n-s[i]-s[u]==0]\n",
    "    print(*(b[(len(b)-1)//2]))\n",
    "    t-=1"
   ]
  },
  {
   "cell_type": "code",
   "execution_count": 18,
   "metadata": {},
   "outputs": [
    {
     "name": "stdout",
     "output_type": "stream",
     "text": [
      "3\n",
      "10\n",
      "5 5\n",
      "10000\n",
      "4919 5081\n",
      "50\n",
      "19 31\n"
     ]
    }
   ],
   "source": [
    "# 9020 (골드바흐의 추측)-3\n",
    "def p(n):\n",
    "    d=[True]*n\n",
    "    h=int(n**0.5)\n",
    "    for i in range(2,h+1):\n",
    "        if d[i]==True:\n",
    "            for j in range(i+i,n,i):\n",
    "                d[j]=False\n",
    "    return [i for i in range(2,n) if d[i]==True]\n",
    "\n",
    "q=[True]*10000\n",
    "h=int(10000**0.5)\n",
    "for i in range(2,h+1):\n",
    "    if q[i]==True:\n",
    "        for j in range(i+i,10000,i):\n",
    "            q[j]=False\n",
    "q[0]=False\n",
    "q[1]=False\n",
    "\n",
    "for j in range(int(input())):\n",
    "    a=int(input())\n",
    "    b=p(a+1)\n",
    "    b.reverse()\n",
    "    w=a\n",
    "    for k in b:\n",
    "        g=a-k\n",
    "        if q[g] == True:\n",
    "            m=k-g\n",
    "            if 0<=m and k>=g:\n",
    "                x=k\n",
    "                y=g\n",
    "    print(f'{y} {x}')"
   ]
  },
  {
   "cell_type": "code",
   "execution_count": 19,
   "metadata": {},
   "outputs": [
    {
     "name": "stdout",
     "output_type": "stream",
     "text": [
      "6 2 10 3\n"
     ]
    }
   ],
   "source": [
    "# 1085 (직사각형에서 탈출)\n",
    "x,y,w,h=map(int,input().split())\n",
    "print(min(x,w-x,y,h-y))"
   ]
  },
  {
   "cell_type": "code",
   "execution_count": 77,
   "metadata": {},
   "outputs": [
    {
     "name": "stdout",
     "output_type": "stream",
     "text": [
      "30 20\n",
      "10 10\n",
      "10 20\n",
      "30 10\n"
     ]
    }
   ],
   "source": [
    "# 3009 (네 번째 점)-1\n",
    "a=[]\n",
    "exec(\"a+=list(map(int,input().split()));\"*3)\n",
    "if a[0]==a[2]:x=a[4]\n",
    "elif a[0]==a[4]:x=a[2]\n",
    "else:x=a[0]\n",
    "if a[1]==a[3]:y=a[5]\n",
    "elif a[1]==a[5]:y=a[3]\n",
    "else:y=a[1]\n",
    "print(f'{x} {y}')"
   ]
  },
  {
   "cell_type": "code",
   "execution_count": 157,
   "metadata": {},
   "outputs": [
    {
     "name": "stdout",
     "output_type": "stream",
     "text": [
      "30 20\n",
      "10 10\n",
      "10 20\n",
      "30 10\n"
     ]
    }
   ],
   "source": [
    "# 3009 (네 번째 점)-2\n",
    "x=y=0;exec(\"a,b=map(int,input().split());x^=a;y^=b;\"*3)\n",
    "print(x,y)"
   ]
  },
  {
   "cell_type": "code",
   "execution_count": null,
   "metadata": {},
   "outputs": [],
   "source": []
  }
 ],
 "metadata": {
  "kernelspec": {
   "display_name": "Python 3",
   "language": "python",
   "name": "python3"
  },
  "language_info": {
   "codemirror_mode": {
    "name": "ipython",
    "version": 3
   },
   "file_extension": ".py",
   "mimetype": "text/x-python",
   "name": "python",
   "nbconvert_exporter": "python",
   "pygments_lexer": "ipython3",
   "version": "3.8.5"
  }
 },
 "nbformat": 4,
 "nbformat_minor": 5
}
