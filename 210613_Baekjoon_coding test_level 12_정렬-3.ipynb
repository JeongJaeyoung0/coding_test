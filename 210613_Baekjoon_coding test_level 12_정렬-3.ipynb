{
 "cells": [
  {
   "cell_type": "raw",
   "id": "cc0df46d",
   "metadata": {},
   "source": [
    "2021.06.13"
   ]
  },
  {
   "cell_type": "markdown",
   "id": "a6f034eb",
   "metadata": {},
   "source": [
    "# coding test_Baekjoon_level 12_정렬-3"
   ]
  },
  {
   "cell_type": "code",
   "execution_count": 10,
   "id": "2ac2a504",
   "metadata": {},
   "outputs": [
    {
     "name": "stdout",
     "output_type": "stream",
     "text": [
      "2143\n",
      "4321\n"
     ]
    }
   ],
   "source": [
    "# 1427 (소트인사이드)-1\n",
    "print(''.join(sorted(input(),reverse=True)))"
   ]
  },
  {
   "cell_type": "code",
   "execution_count": 12,
   "id": "8f8ccef4",
   "metadata": {},
   "outputs": [
    {
     "name": "stdout",
     "output_type": "stream",
     "text": [
      "2143\n",
      "4321\n"
     ]
    }
   ],
   "source": [
    "# 1427 (소트인사이드)-2\n",
    "print(*sorted(input())[::-1],sep='')"
   ]
  },
  {
   "cell_type": "code",
   "execution_count": 74,
   "id": "a0aed1b9",
   "metadata": {
    "scrolled": true
   },
   "outputs": [
    {
     "name": "stdout",
     "output_type": "stream",
     "text": [
      "3\n",
      "100 101\n",
      "101 99\n",
      "99 100\n",
      "100 101\n",
      "101 99\n",
      "99 100\n"
     ]
    }
   ],
   "source": [
    "# 11650 (좌표 정렬하기)-1\n",
    "# 시간초과\n",
    "a=[];exec(\"a+=[input()];\"*int(input()))\n",
    "a.sort(key=lambda x:x[1])\n",
    "a.sort(key=lambda x:x[0])\n",
    "for i in sorted(a):print(i)"
   ]
  },
  {
   "cell_type": "code",
   "execution_count": 85,
   "id": "221647c5",
   "metadata": {
    "scrolled": true
   },
   "outputs": [
    {
     "name": "stdout",
     "output_type": "stream",
     "text": [
      "3\n",
      "99 101\n",
      "99 100\n",
      "100 101\n",
      "99 100\n",
      "99 101\n",
      "100 101\n"
     ]
    }
   ],
   "source": [
    "# 11650 (좌표 정렬하기)-2\n",
    "a=[]\n",
    "for _ in range(int(input())):\n",
    "    x,y = map(int,input().split())\n",
    "    a.append((x,y))\n",
    "a.sort(key=lambda x:x[1])\n",
    "a.sort(key=lambda x:x[0])\n",
    "for i in a:print(i[0],i[1])"
   ]
  },
  {
   "cell_type": "code",
   "execution_count": 89,
   "id": "f5829026",
   "metadata": {},
   "outputs": [
    {
     "name": "stdout",
     "output_type": "stream",
     "text": [
      "3\n",
      "99 101\n",
      "99 100\n",
      "100 99\n",
      "99 100\n",
      "99 101\n",
      "100 99\n"
     ]
    }
   ],
   "source": [
    "# 11650 (좌표 정렬하기)-3\n",
    "for a in sorted([*map(int,input().split())]for _ in[0]*int(input())):print(*a)"
   ]
  },
  {
   "cell_type": "code",
   "execution_count": 99,
   "id": "0449fe74",
   "metadata": {},
   "outputs": [
    {
     "name": "stdout",
     "output_type": "stream",
     "text": [
      "5\n",
      "0 4\n",
      "1 2\n",
      "1 -1\n",
      "2 2\n",
      "3 3\n",
      "1 -1\n",
      "1 2\n",
      "2 2\n",
      "3 3\n",
      "0 4\n"
     ]
    }
   ],
   "source": [
    "# 11651 (좌표 정렬하기 2)-1\n",
    "a=[]\n",
    "for _ in range(int(input())):\n",
    "    x,y = map(int,input().split())\n",
    "    a.append((x,y))\n",
    "a.sort(key=lambda x:x[0])\n",
    "a.sort(key=lambda x:x[1])\n",
    "for i in a:print(i[0],i[1])"
   ]
  },
  {
   "cell_type": "code",
   "execution_count": 100,
   "id": "37a8921f",
   "metadata": {},
   "outputs": [
    {
     "name": "stdout",
     "output_type": "stream",
     "text": [
      "5\n",
      "0 4\n",
      "1 2\n",
      "1 -1\n",
      "2 2\n",
      "3 3\n",
      "1 -1\n",
      "1 2\n",
      "2 2\n",
      "3 3\n",
      "0 4\n"
     ]
    }
   ],
   "source": [
    "# 11651 (좌표 정렬하기 2)-2\n",
    "for a in sorted([*map(int,input().split()[::-1])]for _ in[0]*int(input())):print(*a[::-1])"
   ]
  }
 ],
 "metadata": {
  "kernelspec": {
   "display_name": "Python 3",
   "language": "python",
   "name": "python3"
  },
  "language_info": {
   "codemirror_mode": {
    "name": "ipython",
    "version": 3
   },
   "file_extension": ".py",
   "mimetype": "text/x-python",
   "name": "python",
   "nbconvert_exporter": "python",
   "pygments_lexer": "ipython3",
   "version": "3.8.8"
  }
 },
 "nbformat": 4,
 "nbformat_minor": 5
}
