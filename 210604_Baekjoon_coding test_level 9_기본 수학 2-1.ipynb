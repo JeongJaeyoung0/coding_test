{
 "cells": [
  {
   "cell_type": "raw",
   "id": "5a298296",
   "metadata": {},
   "source": [
    "2021.06.04"
   ]
  },
  {
   "cell_type": "markdown",
   "id": "16c93577",
   "metadata": {},
   "source": [
    "# coding test_Baekjoon_level 9_기본 수학 2-1"
   ]
  },
  {
   "cell_type": "code",
   "execution_count": 215,
   "id": "3d79bacd",
   "metadata": {},
   "outputs": [
    {
     "name": "stdout",
     "output_type": "stream",
     "text": [
      "4\n",
      "1 3 5 7\n",
      "3\n"
     ]
    }
   ],
   "source": [
    "# 1978 (소수 찾기)-1\n",
    "import math\n",
    "\n",
    "def prime_number(n):\n",
    "    t=[True for i in range(n+1)]\n",
    "    for i in range(2,int(math.sqrt(n))+1):\n",
    "        if t[i]==True:\n",
    "            a=2\n",
    "            while i*a<=n:\n",
    "                t[i*a]=False\n",
    "                a+=1\n",
    "    return[i for i in range(2,n+1) if t[i]]\n",
    "\n",
    "input()\n",
    "a=set(map(int,input().split()))\n",
    "b=set(prime_number(max(a)))\n",
    "print(len(a&b))"
   ]
  },
  {
   "cell_type": "code",
   "execution_count": null,
   "id": "7ef27c2c",
   "metadata": {},
   "outputs": [],
   "source": [
    "# 1978 (소수 찾기)-2\n",
    "input();print(sum(all(i%s for s in range(2,i))*i>1for i in map(int,input().split())))"
   ]
  },
  {
   "cell_type": "code",
   "execution_count": 250,
   "id": "1eba0524",
   "metadata": {},
   "outputs": [
    {
     "name": "stdout",
     "output_type": "stream",
     "text": [
      "60\n",
      "100\n",
      "620\n",
      "61\n"
     ]
    }
   ],
   "source": [
    "# 2581 (소수)-1\n",
    "import math\n",
    "\n",
    "def prime_number(n):\n",
    "    t=[True for i in range(n+1)]\n",
    "    for i in range(2,int(math.sqrt(n))+1):\n",
    "        if t[i]==True:\n",
    "            a=2\n",
    "            while i*a<=n:\n",
    "                t[i*a]=False\n",
    "                a+=1\n",
    "    return[i for i in range(2,n+1) if t[i]]\n",
    "\n",
    "m=int(input())\n",
    "n=int(input())\n",
    "p=prime_number(n)\n",
    "a=[i for i in p if m<=i]\n",
    "if a==[]:print(-1)\n",
    "else:print(sum(a),a[0],sep='\\n')"
   ]
  },
  {
   "cell_type": "code",
   "execution_count": 260,
   "id": "23ebcbb4",
   "metadata": {},
   "outputs": [
    {
     "name": "stdout",
     "output_type": "stream",
     "text": [
      "60\n",
      "100\n",
      "620\n",
      "61\n"
     ]
    }
   ],
   "source": [
    "# 2581 (소수)-2\n",
    "m,n=int(input()),int(input());p=[i for i in range(m,n+1) if len([a for a in range(1,i+1) if i%a==0])==2];print(f'{sum(p)}\\n{p[0]}' if p else -1)"
   ]
  },
  {
   "cell_type": "code",
   "execution_count": 330,
   "id": "21c2d593",
   "metadata": {},
   "outputs": [
    {
     "name": "stdout",
     "output_type": "stream",
     "text": [
      "72\n",
      "2\n",
      "2\n",
      "2\n",
      "3\n",
      "3\n"
     ]
    }
   ],
   "source": [
    "# 11653 (소인수분해)-1\n",
    "n=int(input())\n",
    "a=[]\n",
    "while n>1:b=[i for i in range(2,n+1) if n%i==0][0];a+=[b];n=n//b\n",
    "for s in a:print(s)"
   ]
  },
  {
   "cell_type": "code",
   "execution_count": 335,
   "id": "44bdb05e",
   "metadata": {},
   "outputs": [
    {
     "name": "stdout",
     "output_type": "stream",
     "text": [
      "10\n",
      "2\n",
      "5\n"
     ]
    }
   ],
   "source": [
    "# 11653 (소인수분해)-2\n",
    "n=int(input());a=2\n",
    "while n>1:\n",
    "    if n%a:a+=1\n",
    "    else:print(a);n/=a"
   ]
  },
  {
   "cell_type": "code",
   "execution_count": 432,
   "id": "03e70ac6",
   "metadata": {},
   "outputs": [
    {
     "name": "stdout",
     "output_type": "stream",
     "text": [
      "1 10\n",
      "2\n",
      "3\n",
      "5\n",
      "7\n"
     ]
    }
   ],
   "source": [
    "# 1929 (소수 구하기)-1\n",
    "# 시간 초과\n",
    "m,n=input().split()\n",
    "for i in [i for i in range(int(m),int(n)+1) if len([a for a in range(1,i+1) if i%a==0])==2]:print(i)"
   ]
  },
  {
   "cell_type": "code",
   "execution_count": 357,
   "id": "84cec553",
   "metadata": {},
   "outputs": [
    {
     "name": "stdout",
     "output_type": "stream",
     "text": [
      "3 16\n",
      "3\n",
      "5\n",
      "7\n",
      "11\n",
      "13\n"
     ]
    }
   ],
   "source": [
    "# 1929 (소수 구하기)-2\n",
    "import math\n",
    "\n",
    "def prime_number(n):\n",
    "    t=[True for i in range(n+1)]\n",
    "    for i in range(2,int(math.sqrt(n))+1):\n",
    "        if t[i]==True:\n",
    "            a=2\n",
    "            while i*a<=n:\n",
    "                t[i*a]=False\n",
    "                a+=1\n",
    "    return[i for i in range(2,n+1) if t[i]]\n",
    "\n",
    "m,n=input().split()\n",
    "p=prime_number(int(n))\n",
    "for i in p:\n",
    "    if int(m)<=i:\n",
    "        print(i)"
   ]
  },
  {
   "cell_type": "code",
   "execution_count": 431,
   "id": "d08a9859",
   "metadata": {},
   "outputs": [
    {
     "name": "stdout",
     "output_type": "stream",
     "text": [
      "10 20\n",
      "11\n",
      "13\n",
      "17\n",
      "19\n"
     ]
    }
   ],
   "source": [
    "# 1929 (소수 구하기)-3\n",
    "m,n=map(int,input().split());p=[*range(n+1)]\n",
    "for i in p:\n",
    "    if 1<i:p[i*i::i]=-(i+~n//i)*[0]\n",
    "    if 1<i>=m:print(i)"
   ]
  },
  {
   "cell_type": "code",
   "execution_count": 446,
   "id": "f8c6024d",
   "metadata": {
    "scrolled": false
   },
   "outputs": [
    {
     "name": "stdout",
     "output_type": "stream",
     "text": [
      "1\n",
      "1\n",
      "10\n",
      "4\n",
      "13\n",
      "3\n",
      "100\n",
      "21\n",
      "1000\n",
      "135\n",
      "10000\n",
      "1033\n",
      "0\n"
     ]
    }
   ],
   "source": [
    "# 4948 (베르트랑 공준)-1\n",
    "# 시간 초과\n",
    "while (n:=int(input()))!=0:p=[i for i in range(n+1,n*2+1) if len([a for a in range(1,i+1) if i%a==0])==2];print(len(p))"
   ]
  },
  {
   "cell_type": "code",
   "execution_count": 81,
   "id": "6b307c61",
   "metadata": {},
   "outputs": [
    {
     "name": "stdout",
     "output_type": "stream",
     "text": [
      "1000\n",
      "135\n",
      "10000\n",
      "1033\n",
      "100000\n",
      "8392\n",
      "0\n"
     ]
    }
   ],
   "source": [
    "# 4948 (베르트랑 공준)-2\n",
    "while (n:=int(input()))!=0:\n",
    "    n+=1;m=n*2-1\n",
    "    p=[*range(m)]\n",
    "    for i in p:\n",
    "        if 1<i:p[i*i::i]=-(i+~(m-1)//i)*[0]\n",
    "    print(len([a for a in p if 1<a>=n]))"
   ]
  },
  {
   "cell_type": "code",
   "execution_count": 80,
   "id": "479f89ff",
   "metadata": {},
   "outputs": [
    {
     "name": "stdout",
     "output_type": "stream",
     "text": [
      "1\n",
      "1\n",
      "10\n",
      "4\n",
      "0\n"
     ]
    }
   ],
   "source": [
    "# 4948 (베르트랑 공준)-3\n",
    "z=123456\n",
    "a,b=1,[1]*(z+1)\n",
    "while(a:=a+1)*a<z+1:\n",
    "    if b[a]:b[2*a::a]=[0]*(z//a-1)\n",
    "while(n:=int(input()))>0:\n",
    "    print(sum(b[n+1:2*n+1]))"
   ]
  }
 ],
 "metadata": {
  "kernelspec": {
   "display_name": "Python 3",
   "language": "python",
   "name": "python3"
  },
  "language_info": {
   "codemirror_mode": {
    "name": "ipython",
    "version": 3
   },
   "file_extension": ".py",
   "mimetype": "text/x-python",
   "name": "python",
   "nbconvert_exporter": "python",
   "pygments_lexer": "ipython3",
   "version": "3.8.8"
  }
 },
 "nbformat": 4,
 "nbformat_minor": 5
}
