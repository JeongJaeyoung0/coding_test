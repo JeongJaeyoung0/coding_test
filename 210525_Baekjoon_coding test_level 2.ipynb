{
 "cells": [
  {
   "cell_type": "raw",
   "metadata": {},
   "source": [
    "2021.05.25"
   ]
  },
  {
   "cell_type": "markdown",
   "metadata": {},
   "source": [
    "# coding test_Baekjoon_level 2_if문"
   ]
  },
  {
   "cell_type": "code",
   "execution_count": 78,
   "metadata": {},
   "outputs": [
    {
     "name": "stdout",
     "output_type": "stream",
     "text": [
      "1 2\n",
      "<\n"
     ]
    }
   ],
   "source": [
    "# 1330 (두 수 비교하기-1)\n",
    "a,b=map(int,input().split())\n",
    "if a>b:print('>')\n",
    "elif a<b:print('<')\n",
    "else:print('==')"
   ]
  },
  {
   "cell_type": "code",
   "execution_count": 79,
   "metadata": {},
   "outputs": [
    {
     "name": "stdout",
     "output_type": "stream",
     "text": [
      "2 1\n",
      ">\n"
     ]
    }
   ],
   "source": [
    "# 1330 (두 수 비교하기-2)\n",
    "a,b=map(int,input().split())\n",
    "print(['<>'[a>b],'=='][a==b])"
   ]
  },
  {
   "cell_type": "code",
   "execution_count": 77,
   "metadata": {},
   "outputs": [
    {
     "name": "stdout",
     "output_type": "stream",
     "text": [
      "100\n",
      "A\n"
     ]
    }
   ],
   "source": [
    "# 9498 (시험 성적-1)\n",
    "a=int(input())\n",
    "print([*[[*[['FD'[59<a],'C'][69<a]],'B'][79<a]],'A'][89<a])"
   ]
  },
  {
   "cell_type": "code",
   "execution_count": 80,
   "metadata": {},
   "outputs": [
    {
     "name": "stdout",
     "output_type": "stream",
     "text": [
      "40\n",
      "F\n"
     ]
    }
   ],
   "source": [
    "# 9498 (시험 성적-2)\n",
    "print('FFFFFFDCBAA'[int(input())//10])"
   ]
  },
  {
   "cell_type": "code",
   "execution_count": 186,
   "metadata": {},
   "outputs": [
    {
     "name": "stdout",
     "output_type": "stream",
     "text": [
      "2021\n",
      "0\n"
     ]
    }
   ],
   "source": [
    "# 2753 (윤년-1)\n",
    "# 4의 배수 and 100의 배수가 아닌 or 400의 배수\n",
    "a=int(input());print(+(a%400<1or a%4<1and a%100>0))"
   ]
  },
  {
   "cell_type": "code",
   "execution_count": 204,
   "metadata": {},
   "outputs": [
    {
     "name": "stdout",
     "output_type": "stream",
     "text": [
      "2024\n",
      "1\n"
     ]
    }
   ],
   "source": [
    "# 2753 (윤년-2)\n",
    "a=int(input());print(+((a%100or a//100)%4<1))"
   ]
  },
  {
   "cell_type": "code",
   "execution_count": 233,
   "metadata": {},
   "outputs": [
    {
     "name": "stdout",
     "output_type": "stream",
     "text": [
      "-12\n",
      "-5\n",
      "3\n"
     ]
    }
   ],
   "source": [
    "# 14681 (사분면 고르기-1)\n",
    "x,y=int(input()),int(input());print(['41'[y>0],'32'[y>0]][x<0])"
   ]
  },
  {
   "cell_type": "code",
   "execution_count": 241,
   "metadata": {},
   "outputs": [
    {
     "name": "stdout",
     "output_type": "stream",
     "text": [
      "12\n",
      "-5\n",
      "4\n"
     ]
    }
   ],
   "source": [
    "# 14681 (사분면 고르기-2)\n",
    "print(\"3421\"[input()>\"0\"::2][input()>\"0\"])"
   ]
  },
  {
   "cell_type": "code",
   "execution_count": 270,
   "metadata": {},
   "outputs": [
    {
     "name": "stdout",
     "output_type": "stream",
     "text": [
      "0 44\n",
      "23 59\n"
     ]
    }
   ],
   "source": [
    "# 2884 (알람 시계-1)\n",
    "# 입력 시간보다 45분 전\n",
    "h,m=map(int,input().split())\n",
    "print(*[[(h+23,m+15),(h-1,m+15)][h>0],(h,m-45)][m>44])"
   ]
  },
  {
   "cell_type": "code",
   "execution_count": 271,
   "metadata": {},
   "outputs": [
    {
     "name": "stdout",
     "output_type": "stream",
     "text": [
      "0 45\n",
      "0 0\n"
     ]
    }
   ],
   "source": [
    "# 2884 (알람 시계-2)\n",
    "h,m=map(int,input().split())\n",
    "print((h-(m<45))%24,(m-45)%60)"
   ]
  }
 ],
 "metadata": {
  "kernelspec": {
   "display_name": "Python 3",
   "language": "python",
   "name": "python3"
  },
  "language_info": {
   "codemirror_mode": {
    "name": "ipython",
    "version": 3
   },
   "file_extension": ".py",
   "mimetype": "text/x-python",
   "name": "python",
   "nbconvert_exporter": "python",
   "pygments_lexer": "ipython3",
   "version": "3.8.8"
  }
 },
 "nbformat": 4,
 "nbformat_minor": 4
}
