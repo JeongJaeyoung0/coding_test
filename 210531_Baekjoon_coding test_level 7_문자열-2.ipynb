{
 "cells": [
  {
   "cell_type": "raw",
   "metadata": {},
   "source": [
    "2021.05.31"
   ]
  },
  {
   "cell_type": "markdown",
   "metadata": {},
   "source": [
    "# coding test_Baekjoon_level 7_문자열-2"
   ]
  },
  {
   "cell_type": "code",
   "execution_count": 434,
   "metadata": {},
   "outputs": [
    {
     "name": "stdout",
     "output_type": "stream",
     "text": [
      " Mazatneunde Wae Teullyeoyo\n",
      "3\n"
     ]
    }
   ],
   "source": [
    "# 1152 (단어의 개수)\n",
    "print(len(input().split()))"
   ]
  },
  {
   "cell_type": "code",
   "execution_count": 454,
   "metadata": {},
   "outputs": [
    {
     "name": "stdout",
     "output_type": "stream",
     "text": [
      "734 893\n",
      "437\n"
     ]
    }
   ],
   "source": [
    "# 2908 (상수)-1\n",
    "b,a=input()[::-1].split();print(a if a>b else b)"
   ]
  },
  {
   "cell_type": "code",
   "execution_count": 455,
   "metadata": {},
   "outputs": [
    {
     "name": "stdout",
     "output_type": "stream",
     "text": [
      "123 456\n",
      "654\n"
     ]
    }
   ],
   "source": [
    "# 2908 (상수)-2\n",
    "print(max(input()[::-1].split()))"
   ]
  },
  {
   "cell_type": "code",
   "execution_count": 684,
   "metadata": {},
   "outputs": [
    {
     "name": "stdout",
     "output_type": "stream",
     "text": [
      "UNUCIC\n",
      "36\n"
     ]
    }
   ],
   "source": [
    "# 5622 (다이얼)-1\n",
    "a=input()\n",
    "b=['ABC','DEF','GHI','JKL','MNO','PQRS','TUV','WXYZ']\n",
    "print(sum([l+3 for i in a for l in range(len(b)) if i in b[l]]))"
   ]
  },
  {
   "cell_type": "code",
   "execution_count": null,
   "metadata": {},
   "outputs": [],
   "source": [
    "# 5622 (다이얼)-2\n",
    "print(sum(5*min(ord(x),88)//16-17for x in input()))"
   ]
  },
  {
   "cell_type": "code",
   "execution_count": 19,
   "metadata": {
    "scrolled": true
   },
   "outputs": [
    {
     "name": "stdout",
     "output_type": "stream",
     "text": [
      "ljes=njak\n",
      "6\n"
     ]
    }
   ],
   "source": [
    "# 2941 (크로아티아 알파벳)\n",
    "a=input()\n",
    "for i in ['c=','c-','dz=','d-','lj','nj','s=','z=']:a=a.replace(i,'_')\n",
    "print(len(a))"
   ]
  },
  {
   "cell_type": "code",
   "execution_count": 188,
   "metadata": {},
   "outputs": [
    {
     "name": "stdout",
     "output_type": "stream",
     "text": [
      "3\n",
      "happy\n",
      "abbbbbbcccc\n",
      "abcbacbc\n",
      "2\n"
     ]
    }
   ],
   "source": [
    "#1316 (그룹 단어 체커)-1\n",
    "import re\n",
    "c=0\n",
    "exec(\"\"\"\n",
    "b=input()\n",
    "c=c+eval('*'.join(map(str,[int(len(re.sub(r'[^%s]'%(b[i]),' ',b).split()))<2 for i in range(len(b))])));\"\"\"*int(input()))\n",
    "print(c)"
   ]
  },
  {
   "cell_type": "code",
   "execution_count": 207,
   "metadata": {},
   "outputs": [
    {
     "name": "stdout",
     "output_type": "stream",
     "text": [
      "2\n",
      "abcbbb\n",
      "aaaabbbzz\n",
      "1\n"
     ]
    }
   ],
   "source": [
    "#1316 (그룹 단어 체커)-2\n",
    "a=0;exec('b=input();a+=[*b]==sorted(b,key=b.find);'*int(input()));print(a)"
   ]
  }
 ],
 "metadata": {
  "kernelspec": {
   "display_name": "Python 3",
   "language": "python",
   "name": "python3"
  },
  "language_info": {
   "codemirror_mode": {
    "name": "ipython",
    "version": 3
   },
   "file_extension": ".py",
   "mimetype": "text/x-python",
   "name": "python",
   "nbconvert_exporter": "python",
   "pygments_lexer": "ipython3",
   "version": "3.8.8"
  }
 },
 "nbformat": 4,
 "nbformat_minor": 4
}
