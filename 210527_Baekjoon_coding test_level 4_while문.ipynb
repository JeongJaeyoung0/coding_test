{
 "cells": [
  {
   "cell_type": "raw",
   "metadata": {},
   "source": [
    "2021.05.27"
   ]
  },
  {
   "cell_type": "markdown",
   "metadata": {},
   "source": [
    "# coding test_Baekjoon_level 4_while문"
   ]
  },
  {
   "cell_type": "code",
   "execution_count": 31,
   "metadata": {},
   "outputs": [
    {
     "name": "stdout",
     "output_type": "stream",
     "text": [
      "1 1\n",
      "2\n",
      "2 3\n",
      "5\n",
      "3 4\n",
      "7\n",
      "0 0\n"
     ]
    }
   ],
   "source": [
    "# 10952 (A+B -5)\n",
    "a=input()\n",
    "while'0 0'!=a:print(eval('+'.join(a)));a=input()"
   ]
  },
  {
   "cell_type": "code",
   "execution_count": 34,
   "metadata": {},
   "outputs": [],
   "source": [
    "# 10951 (A+B -4)\n",
    "for a,_,b,_ in open(0):print(int(a)+int(b))"
   ]
  },
  {
   "cell_type": "code",
   "execution_count": 236,
   "metadata": {},
   "outputs": [
    {
     "name": "stdout",
     "output_type": "stream",
     "text": [
      "26\n",
      "4\n"
     ]
    }
   ],
   "source": [
    "# 1110 (더하기 사이클)-1\n",
    "# 주어진 두자리 수를 각각 더하고 > 더한 값의 끝과 주어진 수의 1의자리 수를 더하고 > 반복하였을 때 처음 주어진 수가 나올때 까지의 사이클 수\n",
    "def s(a):x=a//10;y=a%10;c=x+y;z=c%10;return int(str(y)+str(z))\n",
    "n=int(input())\n",
    "i=1\n",
    "a=s(n)\n",
    "while a!=n:a=s(a);i+=1\n",
    "print(i)"
   ]
  },
  {
   "cell_type": "code",
   "execution_count": 237,
   "metadata": {},
   "outputs": [
    {
     "name": "stdout",
     "output_type": "stream",
     "text": [
      "0\n",
      "1\n"
     ]
    }
   ],
   "source": [
    "# 1110 (더하기 사이클)-2\n",
    "# 주어진 두자리 수를 각각 더하고 > 더한 값의 끝과 주어진 수의 1의자리 수를 더하고 > 반복하였을 때 처음 주어진 수가 나올때 까지의 사이클 수\n",
    "a=n=int(input());c=1\n",
    "while(a:=a%10*10+a*11//10%10)-n:c+=1\n",
    "print(c)"
   ]
  }
 ],
 "metadata": {
  "kernelspec": {
   "display_name": "Python 3",
   "language": "python",
   "name": "python3"
  },
  "language_info": {
   "codemirror_mode": {
    "name": "ipython",
    "version": 3
   },
   "file_extension": ".py",
   "mimetype": "text/x-python",
   "name": "python",
   "nbconvert_exporter": "python",
   "pygments_lexer": "ipython3",
   "version": "3.8.8"
  }
 },
 "nbformat": 4,
 "nbformat_minor": 4
}
