{
 "cells": [
  {
   "cell_type": "raw",
   "metadata": {},
   "source": [
    "2021.05.28"
   ]
  },
  {
   "cell_type": "markdown",
   "metadata": {},
   "source": [
    "# coding test_Baekjoon_level 5_1차원 배열"
   ]
  },
  {
   "cell_type": "code",
   "execution_count": 28,
   "metadata": {},
   "outputs": [
    {
     "name": "stdout",
     "output_type": "stream",
     "text": [
      "5\n",
      "20 10 35 30 7\n",
      "7 35\n"
     ]
    }
   ],
   "source": [
    "# 10818 (최소, 최대)-1\n",
    "b=int(input())-1\n",
    "a=list(map(int,input().split()))\n",
    "a.sort()\n",
    "print(a[0],a[b])"
   ]
  },
  {
   "cell_type": "code",
   "execution_count": null,
   "metadata": {},
   "outputs": [],
   "source": [
    "# 10818 (최소, 최대)-2\n",
    "print(min(a:=[*map(int,[*open(0)][1].split())]),max(a))"
   ]
  },
  {
   "cell_type": "code",
   "execution_count": 65,
   "metadata": {},
   "outputs": [
    {
     "name": "stdout",
     "output_type": "stream",
     "text": [
      "1\n",
      "2\n",
      "3\n",
      "4\n",
      "5\n",
      "6\n",
      "7\n",
      "8\n",
      "9\n",
      "9 9\n"
     ]
    }
   ],
   "source": [
    "# 2562 (최댓값)-1\n",
    "# 9개의 수 중 최대값은 얼마이며, 그 자리수는 몇인가?\n",
    "a=0\n",
    "for i in range(9):\n",
    "    b=int(input())\n",
    "    if a<b:a=b;n=i+1\n",
    "print(a,n)"
   ]
  },
  {
   "cell_type": "code",
   "execution_count": 73,
   "metadata": {},
   "outputs": [
    {
     "name": "stdout",
     "output_type": "stream",
     "text": [
      "1\n",
      "2\n",
      "3\n",
      "4\n",
      "5\n",
      "6\n",
      "7\n",
      "8\n",
      "9\n",
      "9 9\n"
     ]
    }
   ],
   "source": [
    "# 2562 (최댓값)-2\n",
    "print(*max((int(input()),i+1)for i in range(9)))"
   ]
  },
  {
   "cell_type": "code",
   "execution_count": 129,
   "metadata": {},
   "outputs": [
    {
     "name": "stdout",
     "output_type": "stream",
     "text": [
      "150\n",
      "266\n",
      "427\n",
      "3\n",
      "1\n",
      "0\n",
      "2\n",
      "0\n",
      "0\n",
      "0\n",
      "2\n",
      "0\n",
      "0\n"
     ]
    }
   ],
   "source": [
    "# 2577 (숫자의 개수)-1\n",
    "# 3개의 숫자를 모두 곱한 값의 숫자들의 중복 갯수?\n",
    "a=str(eval('*'.join([input()for i in range(3)])))\n",
    "for b in range(10):print(a.count(str(b)))"
   ]
  },
  {
   "cell_type": "code",
   "execution_count": 24,
   "metadata": {
    "scrolled": true
   },
   "outputs": [
    {
     "name": "stdout",
     "output_type": "stream",
     "text": [
      "123\n",
      "456\n",
      "789\n",
      "0\n",
      "0\n",
      "2\n",
      "2\n",
      "3\n",
      "1\n",
      "0\n",
      "0\n",
      "0\n",
      "0\n"
     ]
    }
   ],
   "source": [
    "# 2577 (숫자의 개수)-2\n",
    "b=0;exec('a=1'+'*int(input())'*3+';print(str(a).count(str(b)));b+=1'*10)"
   ]
  },
  {
   "cell_type": "code",
   "execution_count": 100,
   "metadata": {},
   "outputs": [
    {
     "name": "stdout",
     "output_type": "stream",
     "text": [
      "1\n",
      "2\n",
      "3\n",
      "4\n",
      "5\n",
      "6\n",
      "7\n",
      "8\n",
      "9\n",
      "10\n",
      "10\n"
     ]
    }
   ],
   "source": [
    "# 3052 (나머지)-1\n",
    "# 10개의 수를 42로 나누었을 때 나머지 값이 다른 갯수가 몇개?\n",
    "print(len(set(int(input())%42for _ in range(10))))"
   ]
  },
  {
   "cell_type": "code",
   "execution_count": 109,
   "metadata": {},
   "outputs": [
    {
     "name": "stdout",
     "output_type": "stream",
     "text": [
      "42\n",
      "84\n",
      "252\n",
      "420\n",
      "840\n",
      "126\n",
      "42\n",
      "84\n",
      "420\n",
      "126\n",
      "1\n"
     ]
    }
   ],
   "source": [
    "# 3052 (나머지)-2\n",
    "print(len({*eval('int(input())%42,'*10)}))"
   ]
  },
  {
   "cell_type": "code",
   "execution_count": 286,
   "metadata": {},
   "outputs": [
    {
     "name": "stdout",
     "output_type": "stream",
     "text": [
      "5\n",
      "1 2 4 8 16\n",
      "38.75\n"
     ]
    }
   ],
   "source": [
    "# 1546 (평균)-1\n",
    "# n개의 숫자 중, 최댓값을 기준으로 나머지 수를 x/최댓값*100일 경우 전체 평균은?\n",
    "a=int(input())\n",
    "b=list(map(int,input().split()))\n",
    "c=max(b)\n",
    "print(eval('+'.join([str(i/c*100)for i in b]))/a)"
   ]
  },
  {
   "cell_type": "code",
   "execution_count": 298,
   "metadata": {},
   "outputs": [
    {
     "name": "stdout",
     "output_type": "stream",
     "text": [
      "4\n",
      "1 100 100 100\n",
      "75.25\n"
     ]
    }
   ],
   "source": [
    "# 1546 (평균)-2\n",
    "input()\n",
    "*a,=map(int,input().split())\n",
    "print(sum(a)*100/max(a)/len(a))"
   ]
  },
  {
   "cell_type": "code",
   "execution_count": 129,
   "metadata": {},
   "outputs": [
    {
     "name": "stdout",
     "output_type": "stream",
     "text": [
      "5\n",
      "OOXXOXXOOO\n",
      "10\n",
      "OOXXOOXXOO\n",
      "9\n",
      "OXOXOXOXOXOXOX\n",
      "7\n",
      "OOOOOOOOOO\n",
      "55\n",
      "OOOOXOOOOXOOOOX\n",
      "30\n"
     ]
    }
   ],
   "source": [
    "# 8958 (OX퀴즈)-1\n",
    "# 테스트 n번 입력, O=1 X=0 그러나 O가 연속되면 +1 일 경우 전체 수의 합\n",
    "exec(\"\"\"a=[+('O'==i)for i in input()]\n",
    "for n in range(1,len(a)):\n",
    "    if 0!=a[n] and 0!=a[n-1]:a[n]=a[n-1]+1\n",
    "print(sum(a));\"\"\"*int(input()))"
   ]
  },
  {
   "cell_type": "code",
   "execution_count": 130,
   "metadata": {},
   "outputs": [
    {
     "name": "stdout",
     "output_type": "stream",
     "text": [
      "3\n",
      "OOXXOXXOOO\n",
      "10\n",
      "OOXXOOXXOO\n",
      "9\n",
      "OXOXOXOXOXOXOX\n",
      "7\n"
     ]
    }
   ],
   "source": [
    "# 8958 (OX퀴즈)-2\n",
    "exec(\"print(sum(i*-~i//2for i in map(len,input().split('X'))));\"*int(input()))"
   ]
  },
  {
   "cell_type": "code",
   "execution_count": 4,
   "metadata": {},
   "outputs": [
    {
     "name": "stdout",
     "output_type": "stream",
     "text": [
      "5\n",
      "5 50 50 70 80 100\n",
      "40.000%\n",
      "7 100 95 90 80 70 60 50\n",
      "57.143%\n",
      "3 70 90 80\n",
      "33.333%\n",
      "3 70 90 81\n",
      "66.667%\n",
      "9 100 99 98 97 96 95 94 93 91\n",
      "55.556%\n"
     ]
    }
   ],
   "source": [
    "# 4344 (평균은 넘겠지)-1\n",
    "# 케이스 갯수 / 성적 갯수, 각 성적 > 평균을 넘는 학생의 비율을 소수점 3째자리 출력\n",
    "exec(\"\"\"a=list(map(int,input().split()))\n",
    "n=0\n",
    "for i in a[1:]:\n",
    "    if sum(a[1:])/a[0]<i:n+=1\n",
    "print('{:.3f}%'.format(round(n/a[0]*100,3)));\"\"\"*int(input()))"
   ]
  },
  {
   "cell_type": "code",
   "execution_count": 8,
   "metadata": {},
   "outputs": [
    {
     "name": "stdout",
     "output_type": "stream",
     "text": [
      "2\n",
      "5 50 50 70 80 100\n",
      "40.000%\n",
      "9 100 99 98 97 96 95 94 93 91\n",
      "55.556%\n"
     ]
    }
   ],
   "source": [
    "# 4344 (평균은 넘겠지)-2\n",
    "exec(int(input())*'b,*c=map(int,input().split());print(f\"{sum(b*i>sum(c)for i in c)/b:.3%}\");')"
   ]
  }
 ],
 "metadata": {
  "kernelspec": {
   "display_name": "Python 3",
   "language": "python",
   "name": "python3"
  },
  "language_info": {
   "codemirror_mode": {
    "name": "ipython",
    "version": 3
   },
   "file_extension": ".py",
   "mimetype": "text/x-python",
   "name": "python",
   "nbconvert_exporter": "python",
   "pygments_lexer": "ipython3",
   "version": "3.8.8"
  }
 },
 "nbformat": 4,
 "nbformat_minor": 4
}
