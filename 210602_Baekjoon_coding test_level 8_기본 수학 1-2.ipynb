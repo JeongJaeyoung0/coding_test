{
 "cells": [
  {
   "cell_type": "raw",
   "id": "5a298296",
   "metadata": {},
   "source": [
    "2021.06.02"
   ]
  },
  {
   "cell_type": "markdown",
   "id": "16c93577",
   "metadata": {},
   "source": [
    "# coding test_Baekjoon_level 8_기본 수학 1-2"
   ]
  },
  {
   "cell_type": "code",
   "execution_count": 45,
   "id": "430177e4",
   "metadata": {},
   "outputs": [
    {
     "name": "stdout",
     "output_type": "stream",
     "text": [
      "2\n",
      "1\n",
      "3\n",
      "6\n",
      "2\n",
      "3\n",
      "10\n"
     ]
    }
   ],
   "source": [
    "# 2775 (부녀회장이 될테야)-1\n",
    "t=int(input())\n",
    "apart=[[0]*15 for _ in range(15)]\n",
    "for i in range(15):\n",
    "    apart[0][i]=i\n",
    "for _ in range(t):\n",
    "    k=int(input())\n",
    "    n=int(input())\n",
    "    if apart[k][n]!=0:\n",
    "        print(apart[k][n])\n",
    "        continue\n",
    "    for a in range(k+1):\n",
    "        for b in range(n+1):\n",
    "            if apart[a][b]==0:\n",
    "                for c in range(b+1):\n",
    "                    apart[a][b]+=apart[a-1][c]\n",
    "    print(apart[k][n])"
   ]
  },
  {
   "cell_type": "code",
   "execution_count": 46,
   "id": "b46a444f",
   "metadata": {},
   "outputs": [
    {
     "name": "stdout",
     "output_type": "stream",
     "text": [
      "2\n",
      "1\n",
      "3\n",
      "6\n",
      "2\n",
      "3\n",
      "10\n"
     ]
    }
   ],
   "source": [
    "# 2775 (부녀회장이 될테야)-2\n",
    "import math\n",
    "i=input\n",
    "for n in[int]*int(i()):k=n(i());print(math.comb(k+n(i()),k+1))"
   ]
  },
  {
   "cell_type": "code",
   "execution_count": 174,
   "id": "5ae1aea2",
   "metadata": {},
   "outputs": [
    {
     "name": "stdout",
     "output_type": "stream",
     "text": [
      "11\n",
      "3\n"
     ]
    }
   ],
   "source": [
    "# 2839 (설탕 배달)\n",
    "i=int(input())\n",
    "b=sorted([a if (i-a*5)%3==0 else -1 for a in range(i//5+1)[::-1]])[-1]\n",
    "if b==-1:n=-1\n",
    "else:n=b+(i-5*b)//3\n",
    "print(n)"
   ]
  },
  {
   "cell_type": "code",
   "execution_count": 186,
   "id": "5e5c464d",
   "metadata": {},
   "outputs": [
    {
     "name": "stdout",
     "output_type": "stream",
     "text": [
      "9223372036854775807 9223372036854775808\n",
      "18446744073709551615\n"
     ]
    }
   ],
   "source": [
    "# 10757 (큰 수 A+B)\n",
    "print(sum(map(int,input().split())))"
   ]
  },
  {
   "cell_type": "code",
   "execution_count": 69,
   "id": "89d617d3",
   "metadata": {},
   "outputs": [
    {
     "name": "stdout",
     "output_type": "stream",
     "text": [
      "3\n",
      "0 3\n",
      "3\n",
      "1 5\n",
      "3\n",
      "45 50\n",
      "4\n"
     ]
    }
   ],
   "source": [
    "# 1011 (Fly me to the Alpha Centauri)-1\n",
    "exec(\"\"\"x,y=map(int,input().split())\n",
    "k=y-x\n",
    "a=(y-x)/2\n",
    "n=1\n",
    "p=0\n",
    "while a>0:\n",
    "    if a<=n:\n",
    "        if a*2<=n:p=(n-1)*2+1;a=0\n",
    "        else:p=n*2;a=0\n",
    "    a-=n\n",
    "    n+=1\n",
    "print(p);\"\"\"*int(input()))"
   ]
  },
  {
   "cell_type": "code",
   "execution_count": 72,
   "id": "ebb17213",
   "metadata": {},
   "outputs": [
    {
     "name": "stdout",
     "output_type": "stream",
     "text": [
      "3\n",
      "0 3\n",
      "3\n",
      "1 5\n",
      "3\n",
      "0 7\n",
      "5\n"
     ]
    }
   ],
   "source": [
    "# 1011 (Fly me to the Alpha Centauri)-2\n",
    "for i in[int]*int(input()):x,y=input().split();print(i(2*(i(y)-i(x)-.5)**.5))"
   ]
  }
 ],
 "metadata": {
  "kernelspec": {
   "display_name": "Python 3",
   "language": "python",
   "name": "python3"
  },
  "language_info": {
   "codemirror_mode": {
    "name": "ipython",
    "version": 3
   },
   "file_extension": ".py",
   "mimetype": "text/x-python",
   "name": "python",
   "nbconvert_exporter": "python",
   "pygments_lexer": "ipython3",
   "version": "3.8.8"
  }
 },
 "nbformat": 4,
 "nbformat_minor": 5
}
