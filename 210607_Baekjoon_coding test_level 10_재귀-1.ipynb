{
 "cells": [
  {
   "cell_type": "raw",
   "id": "3ebd51de",
   "metadata": {},
   "source": [
    "2021.06.07"
   ]
  },
  {
   "cell_type": "markdown",
   "id": "477b9b2d",
   "metadata": {},
   "source": [
    "# coding test_Baekjoon_level 10_재귀-1"
   ]
  },
  {
   "cell_type": "code",
   "execution_count": 2,
   "id": "1379bca8",
   "metadata": {},
   "outputs": [
    {
     "name": "stdout",
     "output_type": "stream",
     "text": [
      "0\n",
      "1\n"
     ]
    }
   ],
   "source": [
    "# 10872 (팩토리얼)-1\n",
    "import math\n",
    "print(math.factorial(int(input())))"
   ]
  },
  {
   "cell_type": "code",
   "execution_count": 3,
   "id": "d8e24729",
   "metadata": {
    "scrolled": true
   },
   "outputs": [
    {
     "name": "stdout",
     "output_type": "stream",
     "text": [
      "5\n",
      "120\n"
     ]
    }
   ],
   "source": [
    "# 10872 (팩토리얼)-2\n",
    "f=a=1;exec('f*=a;a+=1;'*int(input()));print(f)"
   ]
  },
  {
   "cell_type": "code",
   "execution_count": 35,
   "id": "2b13911a",
   "metadata": {},
   "outputs": [
    {
     "name": "stdout",
     "output_type": "stream",
     "text": [
      "10\n",
      "55\n"
     ]
    }
   ],
   "source": [
    "# 10870 (피보나치 수 5)-1\n",
    "a=[0,1]\n",
    "n=int(input())\n",
    "for i in range(n):\n",
    "    b=a[i]+a[i+1]\n",
    "    a.append(b)\n",
    "print(a[n])"
   ]
  },
  {
   "cell_type": "code",
   "execution_count": 41,
   "id": "f2c6b370",
   "metadata": {},
   "outputs": [
    {
     "name": "stdout",
     "output_type": "stream",
     "text": [
      "2\n",
      "1\n"
     ]
    }
   ],
   "source": [
    "# 10870 (피보나치 수 5)-2\n",
    "a=0;b=1;exec(\"a,b=b,a+b;\"*int(input()));print(a)"
   ]
  },
  {
   "cell_type": "code",
   "execution_count": 345,
   "id": "d290d8c7",
   "metadata": {},
   "outputs": [
    {
     "name": "stdout",
     "output_type": "stream",
     "text": [
      "27\n",
      "***************************\n",
      "* ** ** ** ** ** ** ** ** *\n",
      "***************************\n",
      "***   ******   ******   ***\n",
      "* *   * ** *   * ** *   * *\n",
      "***   ******   ******   ***\n",
      "***************************\n",
      "* ** ** ** ** ** ** ** ** *\n",
      "***************************\n",
      "*********         *********\n",
      "* ** ** *         * ** ** *\n",
      "*********         *********\n",
      "***   ***         ***   ***\n",
      "* *   * *         * *   * *\n",
      "***   ***         ***   ***\n",
      "*********         *********\n",
      "* ** ** *         * ** ** *\n",
      "*********         *********\n",
      "***************************\n",
      "* ** ** ** ** ** ** ** ** *\n",
      "***************************\n",
      "***   ******   ******   ***\n",
      "* *   * ** *   * ** *   * *\n",
      "***   ******   ******   ***\n",
      "***************************\n",
      "* ** ** ** ** ** ** ** ** *\n",
      "***************************\n"
     ]
    }
   ],
   "source": [
    "# 2447 (별 찍기-10)-1\n",
    "def s(N,A):\n",
    "    T=3**N\n",
    "    B=range(int(T/3),int(2*T/3))\n",
    "    C=[i for i in range(len(A)) if i%T in B]\n",
    "    for X in C:\n",
    "        for Y in C:\n",
    "            A[X][Y]=' '\n",
    "    N-=1\n",
    "    if N!=0:\n",
    "        return s(N,A)\n",
    "    else:\n",
    "        return A\n",
    "\n",
    "n=int(input())\n",
    "a=[['*' for c in range(n)] for r in range(n)]\n",
    "b=s(int(n**(1/3)),a)\n",
    "\n",
    "p=''\n",
    "for i in range(len(b)):\n",
    "    print(''.join(b[i]))"
   ]
  },
  {
   "cell_type": "code",
   "execution_count": 446,
   "id": "75e58b08",
   "metadata": {},
   "outputs": [
    {
     "name": "stdout",
     "output_type": "stream",
     "text": [
      "9\n",
      "*********\n",
      "* ** ** *\n",
      "*********\n",
      "***   ***\n",
      "* *   * *\n",
      "***   ***\n",
      "*********\n",
      "* ** ** *\n",
      "*********\n"
     ]
    }
   ],
   "source": [
    "# 2447 (별 찍기-10)-2\n",
    "import math\n",
    "def s(N,A):\n",
    "    T=3**N\n",
    "    B=range(int(T/3),int(2*T/3))\n",
    "    C=[i for i in range(len(A)) if i%T in B]\n",
    "    for X in C:\n",
    "        for Y in C:\n",
    "            A[X][Y]=' '\n",
    "    N-=1\n",
    "    if N!=0:\n",
    "        return s(N,A)\n",
    "    else:\n",
    "        return A\n",
    "\n",
    "n=int(input())\n",
    "a=[['*' for c in range(n)] for r in range(n)]\n",
    "b=s(int(round(math.log(n,3))),a)\n",
    "\n",
    "p=''\n",
    "for i in range(len(b)):\n",
    "    print(''.join(b[i]))"
   ]
  },
  {
   "cell_type": "code",
   "execution_count": 353,
   "id": "c10afdba",
   "metadata": {},
   "outputs": [
    {
     "name": "stdout",
     "output_type": "stream",
     "text": [
      "9\n",
      "*********\n",
      "* ** ** *\n",
      "*********\n",
      "***   ***\n",
      "* *   * *\n",
      "***   ***\n",
      "*********\n",
      "* ** ** *\n",
      "*********\n"
     ]
    }
   ],
   "source": [
    "# 2447 (별 찍기-10)-3\n",
    "n=int(input());s='*'\n",
    "while n>1:\n",
    "    t=[i*3 for i in s]\n",
    "    s=t+[i+' '*len(i)+i for i in s]+t\n",
    "    n//=3\n",
    "print('\\n'.join(s))"
   ]
  }
 ],
 "metadata": {
  "kernelspec": {
   "display_name": "Python 3",
   "language": "python",
   "name": "python3"
  },
  "language_info": {
   "codemirror_mode": {
    "name": "ipython",
    "version": 3
   },
   "file_extension": ".py",
   "mimetype": "text/x-python",
   "name": "python",
   "nbconvert_exporter": "python",
   "pygments_lexer": "ipython3",
   "version": "3.8.8"
  }
 },
 "nbformat": 4,
 "nbformat_minor": 5
}
