{
 "cells": [
  {
   "cell_type": "raw",
   "metadata": {},
   "source": [
    "2021.06.11"
   ]
  },
  {
   "cell_type": "markdown",
   "metadata": {},
   "source": [
    "# coding test_Baekjoon_level 12_정렬-1"
   ]
  },
  {
   "cell_type": "code",
   "execution_count": null,
   "metadata": {},
   "outputs": [],
   "source": [
    "# 2750 (수 정렬하기)\n",
    "print(*sorted(eval(\"int(input()),\"*int(input()))))"
   ]
  },
  {
   "cell_type": "code",
   "execution_count": null,
   "metadata": {},
   "outputs": [],
   "source": [
    "# 2751 (수 정렬하기 2)\n",
    "print(*sorted(map(int,[*open(0)][1:])))"
   ]
  },
  {
   "cell_type": "code",
   "execution_count": null,
   "metadata": {},
   "outputs": [],
   "source": [
    "# 10989 (수 정렬하기 3)\n",
    "import sys\n",
    "input=sys.stdin.readline\n",
    "a=10001;b=[0]*a\n",
    "for _ in range(int(input())):b[int(input())]+=1\n",
    "for i in range(1,a):print(f\"{i}\\n\"*l[i],end=\"\")"
   ]
  }
 ],
 "metadata": {
  "kernelspec": {
   "display_name": "Python 3",
   "language": "python",
   "name": "python3"
  },
  "language_info": {
   "codemirror_mode": {
    "name": "ipython",
    "version": 3
   },
   "file_extension": ".py",
   "mimetype": "text/x-python",
   "name": "python",
   "nbconvert_exporter": "python",
   "pygments_lexer": "ipython3",
   "version": "3.8.5"
  }
 },
 "nbformat": 4,
 "nbformat_minor": 5
}
