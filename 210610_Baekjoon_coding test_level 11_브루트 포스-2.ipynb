{
 "cells": [
  {
   "cell_type": "raw",
   "metadata": {},
   "source": [
    "2021.06.10"
   ]
  },
  {
   "cell_type": "markdown",
   "metadata": {},
   "source": [
    "# coding test_Baekjoon_level 11_브루트 포스-2"
   ]
  },
  {
   "cell_type": "code",
   "execution_count": 2,
   "metadata": {
    "scrolled": true
   },
   "outputs": [
    {
     "name": "stdout",
     "output_type": "stream",
     "text": [
      "8 8\n",
      "WBWBWBWB\n",
      "BWBWBWBW\n",
      "WBWBWBWB\n",
      "BWBBBWBW\n",
      "WBWBWBWB\n",
      "BWBWBWBW\n",
      "WBWBWBWB\n",
      "BWBWBWBW\n",
      "1\n"
     ]
    }
   ],
   "source": [
    "# 1018 (체스판 다시 칠하기)-1\n",
    "def c_color(pan) :\n",
    "    cnt = 0\n",
    "    cc = pan[0][0]\n",
    "    for i in range(len(pan)) :\n",
    "        for j in range(0, len(pan[i]), 2) :\n",
    "            if pan[i][j] != cc : cnt += 1\n",
    "            if pan[i][j+1] == cc : cnt += 1\n",
    "        if cc == 'B' : cc = 'W'\n",
    "        else : cc = 'B'   \n",
    "    return cnt\n",
    "\n",
    "row, col = map(int, input().split())\n",
    "csp = [input().strip() for _ in range(row)]\n",
    "ans = []\n",
    "for i in range(len(csp)-7) :\n",
    "    for j in range(len(csp[i])-7) :\n",
    "        bod = [r[j:j+8] for r in csp[i:i+8]]\n",
    "        ans.append(c_color(bod))\n",
    "print(min(min(ans), 64-max(ans)))"
   ]
  },
  {
   "cell_type": "code",
   "execution_count": 14,
   "metadata": {},
   "outputs": [
    {
     "name": "stdout",
     "output_type": "stream",
     "text": [
      "8 8\n",
      "WBWBWBWB\n",
      "BWBWBWBW\n",
      "WBWBWBWB\n",
      "BWBBBWBW\n",
      "BWBWBWBW\n",
      "WBWBWBWB\n",
      "WBWBWBWB\n",
      "WBWBWBWB\n",
      "25\n"
     ]
    }
   ],
   "source": [
    "# 1018 (체스판 다시 칠하기)-2\n",
    "N,M=map(int,input().split())\n",
    "r=range\n",
    "L=[[ord(c)+i+j&1for j,c in enumerate(input())]for i in r(N)]\n",
    "print(min(32-abs(sum(4-sum(l[j:j+8])for l in L[i:i+8]))for i in r(N-7)for j in r(M-7)))"
   ]
  },
  {
   "cell_type": "code",
   "execution_count": 61,
   "metadata": {},
   "outputs": [
    {
     "name": "stdout",
     "output_type": "stream",
     "text": [
      "10000\n",
      "2666799\n"
     ]
    }
   ],
   "source": [
    "# 1436 (영화감독 숌)\n",
    "print([i for i in range(2666800) if '666' in str(i)][int(input())-1])"
   ]
  }
 ],
 "metadata": {
  "kernelspec": {
   "display_name": "Python 3",
   "language": "python",
   "name": "python3"
  },
  "language_info": {
   "codemirror_mode": {
    "name": "ipython",
    "version": 3
   },
   "file_extension": ".py",
   "mimetype": "text/x-python",
   "name": "python",
   "nbconvert_exporter": "python",
   "pygments_lexer": "ipython3",
   "version": "3.8.5"
  }
 },
 "nbformat": 4,
 "nbformat_minor": 5
}
