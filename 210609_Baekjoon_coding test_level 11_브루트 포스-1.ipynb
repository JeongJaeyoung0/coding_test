{
 "cells": [
  {
   "cell_type": "raw",
   "metadata": {},
   "source": [
    "2021.06.09"
   ]
  },
  {
   "cell_type": "markdown",
   "metadata": {},
   "source": [
    "# coding test_Baekjoon_level 11_브루트 포스-1"
   ]
  },
  {
   "cell_type": "code",
   "execution_count": 126,
   "metadata": {},
   "outputs": [
    {
     "name": "stdout",
     "output_type": "stream",
     "text": [
      "10 500\n",
      "93 181 245 214 315 36 185 138 216 295\n",
      "497\n"
     ]
    }
   ],
   "source": [
    "# 2798 (블랙잭)-1\n",
    "n,k=input().split()\n",
    "n=int(n)\n",
    "m=list(map(int,input().split()))\n",
    "s=0\n",
    "while n>2:\n",
    "    for i in m[-n+1:-1]:\n",
    "        a=m.index(i)\n",
    "        for j in m[a+1:]:\n",
    "            b=m[-n]+i+j\n",
    "            if int(k)>=b>s:s=b\n",
    "    n-=1\n",
    "print(s)"
   ]
  },
  {
   "cell_type": "code",
   "execution_count": 131,
   "metadata": {},
   "outputs": [
    {
     "name": "stdout",
     "output_type": "stream",
     "text": [
      "5 21\n",
      "5 6 7 8 9\n",
      "21\n"
     ]
    }
   ],
   "source": [
    "# 2798 (블랙잭)-2\n",
    "from itertools import*\n",
    "[n,k],m=eval('map(int,input().split()),'*2)\n",
    "print(max(i for i in map(sum,combinations(m,3)) if i<=k))"
   ]
  },
  {
   "cell_type": "code",
   "execution_count": 168,
   "metadata": {},
   "outputs": [
    {
     "name": "stdout",
     "output_type": "stream",
     "text": [
      "1\n",
      "0\n"
     ]
    }
   ],
   "source": [
    "# 2231 (분해합)-1\n",
    "a,b=0,1\n",
    "n=int(input())\n",
    "while b==1:\n",
    "    a+=1\n",
    "    if n==a+sum(map(int,str(a))):print(a);b=0\n",
    "    if n<a:print('0');b=0"
   ]
  },
  {
   "cell_type": "code",
   "execution_count": null,
   "metadata": {},
   "outputs": [],
   "source": [
    "# 2231 (분해합)-2\n",
    "n=int(input())\n",
    "print([*[i for i in range(n) if n==i+sum(map(int,str(i)))],0][0])"
   ]
  },
  {
   "cell_type": "code",
   "execution_count": 148,
   "metadata": {
    "scrolled": true
   },
   "outputs": [
    {
     "name": "stdout",
     "output_type": "stream",
     "text": [
      "5\n",
      "55 185\n",
      "58 183\n",
      "88 186\n",
      "60 175\n",
      "46 155\n",
      "2\n",
      "2\n",
      "1\n",
      "2\n",
      "5\n"
     ]
    }
   ],
   "source": [
    "# 7568 (덩치)-1\n",
    "x=[];exec(\"x+=[[i for i in map(int,input().split())]];\"*int(input()))\n",
    "for i in x:\n",
    "    a=1\n",
    "    for j in x:\n",
    "        if i[0]<j[0] and i[1]<j[1]:\n",
    "            a+=1\n",
    "    print(a)"
   ]
  },
  {
   "cell_type": "code",
   "execution_count": 154,
   "metadata": {},
   "outputs": [
    {
     "name": "stdout",
     "output_type": "stream",
     "text": [
      "5\n",
      "55 185\n",
      "58 183\n",
      "88 186\n",
      "60 175\n",
      "46 155\n",
      "2 2 1 2 5\n"
     ]
    }
   ],
   "source": [
    "# 7568 (덩치)-2\n",
    "*x,=eval(int(input())*'input().split(),')\n",
    "print(*[sum((a<c)*(b<d)for c,d in x)+1for a,b in x])"
   ]
  }
 ],
 "metadata": {
  "kernelspec": {
   "display_name": "Python 3",
   "language": "python",
   "name": "python3"
  },
  "language_info": {
   "codemirror_mode": {
    "name": "ipython",
    "version": 3
   },
   "file_extension": ".py",
   "mimetype": "text/x-python",
   "name": "python",
   "nbconvert_exporter": "python",
   "pygments_lexer": "ipython3",
   "version": "3.8.5"
  }
 },
 "nbformat": 4,
 "nbformat_minor": 5
}
