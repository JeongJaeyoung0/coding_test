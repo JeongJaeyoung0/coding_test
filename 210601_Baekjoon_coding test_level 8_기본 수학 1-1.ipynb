{
 "cells": [
  {
   "cell_type": "raw",
   "id": "5a298296",
   "metadata": {},
   "source": [
    "2021.06.01"
   ]
  },
  {
   "cell_type": "markdown",
   "id": "16c93577",
   "metadata": {},
   "source": [
    "# coding test_Baekjoon_level 8_기본 수학 1-1"
   ]
  },
  {
   "cell_type": "code",
   "execution_count": 93,
   "id": "c35d89cc",
   "metadata": {},
   "outputs": [
    {
     "name": "stdout",
     "output_type": "stream",
     "text": [
      "3 2 1\n",
      "-1\n"
     ]
    }
   ],
   "source": [
    "# 1712 (손익분기점)-1\n",
    "a,b,c=map(int,input().split())\n",
    "if b>=c:print('-1')\n",
    "else:print(a//(c-b)+1)"
   ]
  },
  {
   "cell_type": "code",
   "execution_count": 99,
   "id": "0c96b1c1",
   "metadata": {},
   "outputs": [
    {
     "name": "stdout",
     "output_type": "stream",
     "text": [
      "2100000000 9 10\n",
      "2100000001\n"
     ]
    }
   ],
   "source": [
    "# 1712 (손익분기점)-2\n",
    "a,b,c=map(int,input().split());print(-(c<=b)or a//(c-b)+1)"
   ]
  },
  {
   "cell_type": "code",
   "execution_count": 66,
   "id": "29b68667",
   "metadata": {},
   "outputs": [
    {
     "name": "stdout",
     "output_type": "stream",
     "text": [
      "58\n",
      "5\n"
     ]
    }
   ],
   "source": [
    "# 2292 (벌집)-1\n",
    "a=int(input())-1;c=1\n",
    "while a>0:a=a-6*c;c+=1\n",
    "print(c)"
   ]
  },
  {
   "cell_type": "code",
   "execution_count": 67,
   "id": "96f55a4c",
   "metadata": {},
   "outputs": [
    {
     "name": "stdout",
     "output_type": "stream",
     "text": [
      "13\n",
      "3\n"
     ]
    }
   ],
   "source": [
    "# 2292 (벌집)-2\n",
    "print(int((int(input())/3-.1)**.5+1.5))"
   ]
  },
  {
   "cell_type": "code",
   "execution_count": 359,
   "id": "b6bbcf74",
   "metadata": {
    "scrolled": true
   },
   "outputs": [
    {
     "name": "stdout",
     "output_type": "stream",
     "text": [
      "14\n",
      "2/4\n"
     ]
    }
   ],
   "source": [
    "# 1193 (분수찾기)-1\n",
    "n=int(input())\n",
    "m=0\n",
    "while n>0:m+=1;n-=m\n",
    "x=m+n\n",
    "y=1-n\n",
    "if m%2:print(y,'/',x,sep='')\n",
    "else:print(x,'/',y,sep='')"
   ]
  },
  {
   "cell_type": "code",
   "execution_count": 379,
   "id": "28a0599f",
   "metadata": {},
   "outputs": [
    {
     "name": "stdout",
     "output_type": "stream",
     "text": [
      "2\n",
      "1/2\n"
     ]
    }
   ],
   "source": [
    "# 1193 (분수찾기)-2\n",
    "n=int(input())\n",
    "m=0\n",
    "while n>0:m+=1;n-=m\n",
    "print(\"%d/%d\"%(1-n,m+n)[::m%2*2-1])"
   ]
  },
  {
   "cell_type": "code",
   "execution_count": 568,
   "id": "3fe5d677",
   "metadata": {},
   "outputs": [
    {
     "name": "stdout",
     "output_type": "stream",
     "text": [
      "2 1 5\n",
      "4\n"
     ]
    }
   ],
   "source": [
    "# 2869 (달팽이는 올라가고 싶다)-1\n",
    "import math\n",
    "a,b,v=map(int,input().split())\n",
    "print(math.ceil((v-b)/(a-b)))"
   ]
  },
  {
   "cell_type": "code",
   "execution_count": 582,
   "id": "54e97cfd",
   "metadata": {},
   "outputs": [
    {
     "name": "stdout",
     "output_type": "stream",
     "text": [
      "100 99 1000000000\n",
      "999999901\n"
     ]
    }
   ],
   "source": [
    "# 2869 (달팽이는 올라가고 싶다)-2\n",
    "a,b,v=map(int,input().split())\n",
    "print(1-(v-a)//(b-a))"
   ]
  },
  {
   "cell_type": "code",
   "execution_count": 625,
   "id": "c96d76d2",
   "metadata": {},
   "outputs": [
    {
     "name": "stdout",
     "output_type": "stream",
     "text": [
      "1\n",
      "6 12 6\n",
      "002\n"
     ]
    }
   ],
   "source": [
    "# 10250 (ACM 호텔)-1\n",
    "exec(\"h,w,n=map(int,input().split());print(n%h,'%02d'%(n//h+1),sep='');\"*int(input()))"
   ]
  },
  {
   "cell_type": "code",
   "execution_count": 673,
   "id": "389f9f08",
   "metadata": {},
   "outputs": [
    {
     "name": "stdout",
     "output_type": "stream",
     "text": [
      "2\n",
      "6 12 10\n",
      "402\n",
      "30 50 72\n",
      "1203\n"
     ]
    }
   ],
   "source": [
    "# 10250 (ACM 호텔)-1\n",
    "exec(\"\"\"\n",
    "h,w,n=map(int,input().split())\n",
    "if n%h==0:x=h;y=n//h\n",
    "else:x=n%h;y=n//h+1\n",
    "print(x,'%02d'%(y),sep='');\"\"\"*int(input()))"
   ]
  },
  {
   "cell_type": "code",
   "execution_count": 719,
   "id": "ccc05223",
   "metadata": {},
   "outputs": [
    {
     "name": "stdout",
     "output_type": "stream",
     "text": [
      "2\n",
      "6 12 10\n",
      "402\n",
      "30 50 72\n",
      "1203\n"
     ]
    }
   ],
   "source": [
    "# 10250 (ACM 호텔)-2\n",
    "exec('h,w,n=map(int,input().split());print(~-n//h+~-n%h*100+101);'*int(input()))"
   ]
  }
 ],
 "metadata": {
  "kernelspec": {
   "display_name": "Python 3",
   "language": "python",
   "name": "python3"
  },
  "language_info": {
   "codemirror_mode": {
    "name": "ipython",
    "version": 3
   },
   "file_extension": ".py",
   "mimetype": "text/x-python",
   "name": "python",
   "nbconvert_exporter": "python",
   "pygments_lexer": "ipython3",
   "version": "3.8.8"
  }
 },
 "nbformat": 4,
 "nbformat_minor": 5
}
