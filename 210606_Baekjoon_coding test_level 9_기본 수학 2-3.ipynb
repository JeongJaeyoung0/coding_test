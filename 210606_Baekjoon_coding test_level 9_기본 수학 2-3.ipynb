{
 "cells": [
  {
   "cell_type": "raw",
   "metadata": {},
   "source": [
    "2021.06.06"
   ]
  },
  {
   "cell_type": "markdown",
   "metadata": {},
   "source": [
    "# coding test_Baekjoon_level 9_기본 수학 2-3"
   ]
  },
  {
   "cell_type": "code",
   "execution_count": 97,
   "metadata": {},
   "outputs": [
    {
     "name": "stdout",
     "output_type": "stream",
     "text": [
      "6 8 10\n",
      "right\n",
      "0 0 0\n"
     ]
    }
   ],
   "source": [
    "# 4153 (직각삼각형)-1\n",
    "a=sorted(list((map(int,input().split()))))\n",
    "while sum(a)!=0:\n",
    "    if a[0]**2+a[1]**2==a[2]**2:print('right')\n",
    "    else:print('wrong')\n",
    "    a=sorted(list((map(int,input().split()))))"
   ]
  },
  {
   "cell_type": "code",
   "execution_count": 135,
   "metadata": {},
   "outputs": [
    {
     "name": "stdout",
     "output_type": "stream",
     "text": [
      "6 8 10\n",
      "right\n",
      "0 0 0\n"
     ]
    }
   ],
   "source": [
    "# 4153 (직각삼각형)-2\n",
    "a=1\n",
    "while a:a,b,c=sorted(map(int,input().split()));a>0==print('rwirgohntg'[a*a+b*b!=c*c::2])"
   ]
  },
  {
   "cell_type": "code",
   "execution_count": 191,
   "metadata": {},
   "outputs": [
    {
     "name": "stdout",
     "output_type": "stream",
     "text": [
      "21\n",
      "1385.4423602330987 882\n"
     ]
    }
   ],
   "source": [
    "# 3053 (택시 기하학)-1\n",
    "import math\n",
    "r=int(input())\n",
    "print(r*r*math.pi,2*r*r)"
   ]
  },
  {
   "cell_type": "code",
   "execution_count": 200,
   "metadata": {},
   "outputs": [
    {
     "name": "stdout",
     "output_type": "stream",
     "text": [
      "42\n",
      "5541.7694409327605 3528\n"
     ]
    }
   ],
   "source": [
    "# 3053 (택시 기하학)-2\n",
    "r=int(input())**2;print(r*3.14159265359,r*2)"
   ]
  },
  {
   "cell_type": "code",
   "execution_count": 386,
   "metadata": {},
   "outputs": [
    {
     "name": "stdout",
     "output_type": "stream",
     "text": [
      "3\n",
      "0 0 13 40 0 37\n",
      "2\n",
      "0 0 3 0 7 4\n",
      "1\n",
      "1 1 1 1 1 5\n",
      "0\n"
     ]
    }
   ],
   "source": [
    "# 1002 (터렛)-1\n",
    "for _ in range(int(input())):\n",
    "    x,y,r,a,b,c=map(int,input().split())\n",
    "    d=(((x-a)**2)+((y-b)**2))**.5\n",
    "    if x==a and y==b and r==c:print(-1)\n",
    "    elif d==r+c or d==abs(r-c):print(1)\n",
    "    elif r+c<d or d<abs(r-c) or d==0:print(0)\n",
    "    else:print(2)"
   ]
  },
  {
   "cell_type": "code",
   "execution_count": 393,
   "metadata": {},
   "outputs": [
    {
     "name": "stdout",
     "output_type": "stream",
     "text": [
      "3\n",
      "0 0 13 40 0 37\n",
      "2\n",
      "0 0 3 0 7 4\n",
      "1\n",
      "1 1 1 1 1 5\n",
      "0\n"
     ]
    }
   ],
   "source": [
    "# 1002 (터렛)-2\n",
    "exec('x,y,r,a,b,c=map(int,input().split());d=((x-a)**2+(y-b)**2)**.5;print(-1if d==0and r==c else 1if d==r+c or d==abs(r-c) else 0if r+c<d or d<abs(r-c) or d==0else 2);'*int(input()))"
   ]
  }
 ],
 "metadata": {
  "kernelspec": {
   "display_name": "Python 3",
   "language": "python",
   "name": "python3"
  },
  "language_info": {
   "codemirror_mode": {
    "name": "ipython",
    "version": 3
   },
   "file_extension": ".py",
   "mimetype": "text/x-python",
   "name": "python",
   "nbconvert_exporter": "python",
   "pygments_lexer": "ipython3",
   "version": "3.8.5"
  }
 },
 "nbformat": 4,
 "nbformat_minor": 5
}
