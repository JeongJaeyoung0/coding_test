{
 "cells": [
  {
   "cell_type": "raw",
   "metadata": {},
   "source": [
    "2021.05.26"
   ]
  },
  {
   "cell_type": "markdown",
   "metadata": {},
   "source": [
    "# coding test_Baekjoon_level 3_for문"
   ]
  },
  {
   "cell_type": "code",
   "execution_count": 31,
   "metadata": {},
   "outputs": [
    {
     "name": "stdout",
     "output_type": "stream",
     "text": [
      "2\n",
      "2 * 1 = 2\n",
      "2 * 2 = 4\n",
      "2 * 3 = 6\n",
      "2 * 4 = 8\n",
      "2 * 5 = 10\n",
      "2 * 6 = 12\n",
      "2 * 7 = 14\n",
      "2 * 8 = 16\n",
      "2 * 9 = 18\n"
     ]
    }
   ],
   "source": [
    "# 2739 (구구단)-1\n",
    "x=int(input())\n",
    "for y in range(1,10):print(x,'*',y,'=',x*y)"
   ]
  },
  {
   "cell_type": "code",
   "execution_count": 1,
   "metadata": {},
   "outputs": [
    {
     "name": "stdout",
     "output_type": "stream",
     "text": [
      "11\n",
      "11 * 1 = 11\n",
      "11 * 2 = 22\n",
      "11 * 3 = 33\n",
      "11 * 4 = 44\n",
      "11 * 5 = 55\n",
      "11 * 6 = 66\n",
      "11 * 7 = 77\n",
      "11 * 8 = 88\n",
      "11 * 9 = 99\n"
     ]
    }
   ],
   "source": [
    "# 2739 (구구단)-2\n",
    "# exec(): eval은 문자열 속의 산식만 가능하지만, exec는 문도(ex. a=a+1) 가능\n",
    "x=y=int(input());exec(\"print(x,'*',y//x,'=',y);y+=x;\"*9)"
   ]
  },
  {
   "cell_type": "code",
   "execution_count": 50,
   "metadata": {},
   "outputs": [
    {
     "name": "stdout",
     "output_type": "stream",
     "text": [
      "5\n",
      "1 1\n",
      "2\n",
      "2 3\n",
      "5\n",
      "3 4\n",
      "7\n",
      "9 8\n",
      "17\n",
      "5 2\n",
      "7\n"
     ]
    }
   ],
   "source": [
    "# 10950 (A+B -3)-1\n",
    "for i in range(int(input())):\n",
    "    x,y=input().split()\n",
    "    print(int(x)+int(y))"
   ]
  },
  {
   "cell_type": "code",
   "execution_count": 53,
   "metadata": {},
   "outputs": [
    {
     "name": "stdout",
     "output_type": "stream",
     "text": [
      "5\n",
      "1 1\n",
      "2\n",
      "2 2\n",
      "4\n",
      "3 3\n",
      "6\n",
      "4 4\n",
      "8\n",
      "5 5\n",
      "10\n"
     ]
    }
   ],
   "source": [
    "# 10950 (A+B -3)-2\n",
    "exec('print(eval(\"+\".join(input())));'*int(input()))"
   ]
  },
  {
   "cell_type": "code",
   "execution_count": 94,
   "metadata": {},
   "outputs": [
    {
     "name": "stdout",
     "output_type": "stream",
     "text": [
      "3\n",
      "6\n"
     ]
    }
   ],
   "source": [
    "# 8393 (n까지 자연수의 합)-1\n",
    "a=int(input());print((a*a+a)//2)"
   ]
  },
  {
   "cell_type": "code",
   "execution_count": 96,
   "metadata": {},
   "outputs": [
    {
     "name": "stdout",
     "output_type": "stream",
     "text": [
      "4\n",
      "10\n"
     ]
    }
   ],
   "source": [
    "# 8393 (n까지 자연수의 합)-2\n",
    "# a*-~a = a**2+a ???\n",
    "# ~a: a값을 음수로 바꾸고, -1을 더하는 의미\n",
    "a=int(input());print((a*-~a)//2)"
   ]
  },
  {
   "cell_type": "code",
   "execution_count": null,
   "metadata": {},
   "outputs": [],
   "source": [
    "# 15552 (빠른 A+B)-1\n",
    "# sys.stdin: 여러줄 입력 받을 경우 input은 오래 걸림\n",
    "import sys\n",
    "for i in range(int(input())):\n",
    "        a,b=map(int,sys.stdin.readline().split())\n",
    "        print(a+b)"
   ]
  },
  {
   "cell_type": "code",
   "execution_count": null,
   "metadata": {},
   "outputs": [],
   "source": [
    "# 15552 (빠른 A+B)-2\n",
    "import sys\n",
    "input()\n",
    "for i in sys.stdin:print(sum(map(int,i.split())))"
   ]
  },
  {
   "cell_type": "code",
   "execution_count": 51,
   "metadata": {},
   "outputs": [
    {
     "name": "stdout",
     "output_type": "stream",
     "text": [
      "5\n",
      "1\n",
      "2\n",
      "3\n",
      "4\n",
      "5\n"
     ]
    }
   ],
   "source": [
    "# 2741 (1부터 N까지 출력)-1\n",
    "for i in range(int(input())):print(i+1)"
   ]
  },
  {
   "cell_type": "code",
   "execution_count": 52,
   "metadata": {},
   "outputs": [
    {
     "name": "stdout",
     "output_type": "stream",
     "text": [
      "3\n",
      "1\n",
      "2\n",
      "3\n"
     ]
    }
   ],
   "source": [
    "# 2741 (1부터 N까지 출력)-2\n",
    "# 시간 초과\n",
    "a=1\n",
    "exec('print(a);a+=1;'*int(input()))"
   ]
  },
  {
   "cell_type": "code",
   "execution_count": 4,
   "metadata": {},
   "outputs": [
    {
     "name": "stdout",
     "output_type": "stream",
     "text": [
      "5\n",
      "1 2 3 4 5\n"
     ]
    }
   ],
   "source": [
    "# 2741 (1부터 N까지 출력)-3\n",
    "print(*range(1,int(input())+1))"
   ]
  },
  {
   "cell_type": "code",
   "execution_count": 28,
   "metadata": {},
   "outputs": [
    {
     "name": "stdout",
     "output_type": "stream",
     "text": [
      "5\n",
      "5\n",
      "4\n",
      "3\n",
      "2\n",
      "1\n"
     ]
    }
   ],
   "source": [
    "# 2742 (N부터 1까지 출력)-1\n",
    "for i in list(range(1,int(input())+1))[::-1]:print(i)"
   ]
  },
  {
   "cell_type": "code",
   "execution_count": 37,
   "metadata": {},
   "outputs": [
    {
     "name": "stdout",
     "output_type": "stream",
     "text": [
      "5\n",
      "5 4 3 2 1\n"
     ]
    }
   ],
   "source": [
    "# 2742 (N부터 1까지 출력)-1\n",
    "print(*range(int(input()),0,-1))"
   ]
  },
  {
   "cell_type": "code",
   "execution_count": 47,
   "metadata": {
    "scrolled": true
   },
   "outputs": [
    {
     "name": "stdout",
     "output_type": "stream",
     "text": [
      "5\n",
      "1 1\n",
      "Case #1: 2\n",
      "2 3\n",
      "Case #2: 5\n",
      "3 4\n",
      "Case #3: 7\n",
      "9 8\n",
      "Case #4: 17\n",
      "5 2\n",
      "Case #5: 7\n"
     ]
    }
   ],
   "source": [
    "# 11021 (A+B -7)-1\n",
    "for i in range(1,int(input())+1):\n",
    "    exec('print(\"Case #\",i,\": \",eval(\"+\".join(input())),sep=\"\");')"
   ]
  },
  {
   "cell_type": "code",
   "execution_count": 53,
   "metadata": {},
   "outputs": [
    {
     "name": "stdout",
     "output_type": "stream",
     "text": [
      "5\n",
      "1 1\n",
      "Case #1: 2\n",
      "2 3\n",
      "Case #2: 5\n",
      "3 4\n",
      "Case #3: 7\n",
      "9 8\n",
      "Case #4: 17\n",
      "5 2\n",
      "Case #5: 7\n"
     ]
    }
   ],
   "source": [
    "# 11021 (A+B -7)-2\n",
    "i=1;exec('print(f\"Case #{i}:\",eval(\"+\".join(input())));i+=1;'*int(input()))"
   ]
  },
  {
   "cell_type": "code",
   "execution_count": 70,
   "metadata": {},
   "outputs": [
    {
     "name": "stdout",
     "output_type": "stream",
     "text": [
      "5\n",
      "1 2\n",
      "Case #1: 1 + 2 = 3\n",
      "2 3\n",
      "Case #2: 2 + 3 = 5\n",
      "3 4 \n",
      "Case #3: 3 + 4 = 7\n",
      "4 5\n",
      "Case #4: 4 + 5 = 9\n",
      "5 6\n",
      "Case #5: 5 + 6 = 11\n"
     ]
    }
   ],
   "source": [
    "# 11021 (A+B -8)-1\n",
    "i=1;exec('a,b=map(int,input().split());print(f\"Case #{i}: {a} + {b} = {a+b}\");i+=1;'*int(input()))"
   ]
  },
  {
   "cell_type": "code",
   "execution_count": 72,
   "metadata": {},
   "outputs": [
    {
     "name": "stdout",
     "output_type": "stream",
     "text": [
      "5\n",
      "1 1\n",
      "Case #1: 1 + 1 = 2\n",
      "2 2 \n",
      "Case #2: 2 + 2 = 4\n",
      "3 3\n",
      "Case #3: 3 + 3 = 6\n",
      "4 4\n",
      "Case #4: 4 + 4 = 8\n",
      "5 5\n",
      "Case #5: 5 + 5 = 10\n"
     ]
    }
   ],
   "source": [
    "# 11021 (A+B -8)-2\n",
    "i=1;exec(\"a=' + '.join(input()[::2]);print(f'Case #{i}:',a,'=',eval(a));i+=1;\"*int(input()))"
   ]
  },
  {
   "cell_type": "code",
   "execution_count": 118,
   "metadata": {},
   "outputs": [
    {
     "name": "stdout",
     "output_type": "stream",
     "text": [
      "5\n",
      "*\n",
      "**\n",
      "***\n",
      "****\n",
      "*****\n"
     ]
    }
   ],
   "source": [
    "# 2438 (별 찍기 -1)-1\n",
    "i=1;exec(\"print('*'*i);i+=1;\"*int(input()))"
   ]
  },
  {
   "cell_type": "code",
   "execution_count": 157,
   "metadata": {},
   "outputs": [
    {
     "name": "stdout",
     "output_type": "stream",
     "text": [
      "3\n",
      "*\n",
      "**\n",
      "***\n"
     ]
    }
   ],
   "source": [
    "# 2438 (별 찍기 -1)-2\n",
    "for i in range(int(input())):print('*'*-~i)"
   ]
  },
  {
   "cell_type": "code",
   "execution_count": 180,
   "metadata": {},
   "outputs": [
    {
     "name": "stdout",
     "output_type": "stream",
     "text": [
      "5\n",
      "    *\n",
      "   **\n",
      "  ***\n",
      " ****\n",
      "*****\n"
     ]
    }
   ],
   "source": [
    "# 2438 (별 찍기 -2)-1\n",
    "n=int(input())\n",
    "for i in range(n):print(('*'*-~i).rjust(n))"
   ]
  },
  {
   "cell_type": "code",
   "execution_count": 212,
   "metadata": {},
   "outputs": [
    {
     "name": "stdout",
     "output_type": "stream",
     "text": [
      "10 5\n",
      "1 10 4 9 2 3 8 5 7 6\n",
      "1 4 2 3\n"
     ]
    }
   ],
   "source": [
    "# 10871 (X보다 작은 수)-1, 정수 N개가 주어지고, 그 중 X보다 작은 수 출력\n",
    "n,x=map(int,input().split())\n",
    "a=[];[a.append(i)for i in map(int,input().split())if x>i];print(*a)"
   ]
  },
  {
   "cell_type": "code",
   "execution_count": 216,
   "metadata": {},
   "outputs": [
    {
     "name": "stdout",
     "output_type": "stream",
     "text": [
      "10 5\n",
      "1 10 4 9 2 3 8 5 7 6\n",
      "1 4 2 3\n"
     ]
    }
   ],
   "source": [
    "# 10871 (X보다 작은 수)-2\n",
    "n,x=input().split();print(*(i for i in input().split()if int(x)>int(i)))"
   ]
  }
 ],
 "metadata": {
  "kernelspec": {
   "display_name": "Python 3",
   "language": "python",
   "name": "python3"
  },
  "language_info": {
   "codemirror_mode": {
    "name": "ipython",
    "version": 3
   },
   "file_extension": ".py",
   "mimetype": "text/x-python",
   "name": "python",
   "nbconvert_exporter": "python",
   "pygments_lexer": "ipython3",
   "version": "3.8.5"
  }
 },
 "nbformat": 4,
 "nbformat_minor": 4
}
