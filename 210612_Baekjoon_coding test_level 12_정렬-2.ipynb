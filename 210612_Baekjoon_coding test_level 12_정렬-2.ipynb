{
 "cells": [
  {
   "cell_type": "raw",
   "id": "cc0df46d",
   "metadata": {},
   "source": [
    "2021.06.12"
   ]
  },
  {
   "cell_type": "markdown",
   "id": "a6f034eb",
   "metadata": {},
   "source": [
    "# coding test_Baekjoon_level 12_정렬-2"
   ]
  },
  {
   "cell_type": "code",
   "execution_count": null,
   "id": "b885051b",
   "metadata": {},
   "outputs": [],
   "source": [
    "#2108 (통계학)-1\n",
    "import collections\n",
    "import sys\n",
    "\n",
    "input=sys.stdin.readline\n",
    "n=int(input())\n",
    "sum=0\n",
    "a=[]\n",
    "\n",
    "if n==1:b=int(input());exec(\"print(b);\"*3);print(0);sys.exit()\n",
    "\n",
    "for _ in range(n):\n",
    "    b=int(int(input()))\n",
    "    a.append(b)\n",
    "    sum+=b\n",
    "\n",
    "a.sort()\n",
    "print(round(sum/n))\n",
    "print(a[int((len(a)-1)/2)])\n",
    "c = collections.Counter(a)\n",
    "c = sorted(c.items(), key=lambda x:(-x[1], x[0]))\n",
    "if c[0][1]==c[1][1]:print(c[1][0])\n",
    "else:print(c[0][0])\n",
    "print(a[-1]-a[0])"
   ]
  },
  {
   "cell_type": "code",
   "execution_count": null,
   "id": "259d8e56",
   "metadata": {},
   "outputs": [],
   "source": [
    "#2108 (통계학)-2\n",
    "from statistics import*\n",
    "n,*l=map(int,open(0))\n",
    "print('%.0f'%mean(l),median(l),sorted(multimode(l))[:2][-1],max(l)-min(l))"
   ]
  },
  {
   "cell_type": "code",
   "execution_count": null,
   "id": "3e07dd55",
   "metadata": {},
   "outputs": [],
   "source": []
  }
 ],
 "metadata": {
  "kernelspec": {
   "display_name": "Python 3",
   "language": "python",
   "name": "python3"
  },
  "language_info": {
   "codemirror_mode": {
    "name": "ipython",
    "version": 3
   },
   "file_extension": ".py",
   "mimetype": "text/x-python",
   "name": "python",
   "nbconvert_exporter": "python",
   "pygments_lexer": "ipython3",
   "version": "3.8.8"
  }
 },
 "nbformat": 4,
 "nbformat_minor": 5
}
